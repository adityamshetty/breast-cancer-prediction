{
  "nbformat": 4,
  "nbformat_minor": 0,
  "metadata": {
    "colab": {
      "name": "Predict.ipynb",
      "provenance": [],
      "collapsed_sections": [],
      "include_colab_link": true
    },
    "kernelspec": {
      "name": "python3",
      "display_name": "Python 3"
    }
  },
  "cells": [
    {
      "cell_type": "markdown",
      "metadata": {
        "id": "view-in-github",
        "colab_type": "text"
      },
      "source": [
        "<a href=\"https://colab.research.google.com/github/srujandeshpande/breast-cancer-prediction/blob/main/Predict.ipynb\" target=\"_parent\"><img src=\"https://colab.research.google.com/assets/colab-badge.svg\" alt=\"Open In Colab\"/></a>"
      ]
    },
    {
      "cell_type": "markdown",
      "metadata": {
        "id": "cP0byhyMv9ha"
      },
      "source": [
        "Data Analytics Project  \n",
        "\n",
        "\n",
        "Team: **DataDemystifiers**  \n",
        "Team Members:\n",
        "<table>\n",
        "<tr><th>Name</th><th>SRN</th></tr>\n",
        "<tr><td>Vaibhav Gupta</td><td>PES2201800093</td></tr>\n",
        "<tr><td>Srujan Vasudevrao Deshpande</td><td>PES2201800105</td></tr>\n",
        "<tr><td>Aditya M Shetty</td><td>PES2201800169</td></tr>\n",
        "<tr><td>Safa Hurayn</td><td>PES2201800392</td></tr>\n",
        "</table>\n"
      ]
    },
    {
      "cell_type": "code",
      "metadata": {
        "id": "QC3srGm8quhb",
        "colab": {
          "base_uri": "https://localhost:8080/"
        },
        "outputId": "56d1a552-a6cf-438f-c567-e39e761b7997"
      },
      "source": [
        "import numpy as np\n",
        "import pandas as pd\n",
        "import seaborn as sns\n",
        "from sklearn.model_selection import train_test_split\n",
        "from sklearn.svm import SVC\n",
        "from sklearn.metrics import classification_report, confusion_matrix\n",
        "from sklearn.model_selection import GridSearchCV\n",
        "from sklearn.model_selection import StratifiedKFold\n",
        "!pip install sklearn-genetic\n",
        "from genetic_selection import GeneticSelectionCV\n",
        "!pip install genetic \n",
        "!pip install geneticalgorithm\n",
        "from geneticalgorithm import geneticalgorithm as ga\n"
      ],
      "execution_count": 1,
      "outputs": [
        {
          "output_type": "stream",
          "text": [
            "Collecting sklearn-genetic\n",
            "  Downloading https://files.pythonhosted.org/packages/5a/ac/592b3477b836c337777d69396a9cd88643ebe6618f45c574891ab99014fa/sklearn_genetic-0.3.0-py2.py3-none-any.whl\n",
            "Requirement already satisfied: scikit-learn>=0.20.3 in /usr/local/lib/python3.6/dist-packages (from sklearn-genetic) (0.22.2.post1)\n",
            "Collecting deap>=1.0.2\n",
            "\u001b[?25l  Downloading https://files.pythonhosted.org/packages/0a/eb/2bd0a32e3ce757fb26264765abbaedd6d4d3640d90219a513aeabd08ee2b/deap-1.3.1-cp36-cp36m-manylinux2010_x86_64.whl (157kB)\n",
            "\u001b[K     |████████████████████████████████| 163kB 6.1MB/s \n",
            "\u001b[?25hRequirement already satisfied: joblib>=0.11 in /usr/local/lib/python3.6/dist-packages (from scikit-learn>=0.20.3->sklearn-genetic) (0.17.0)\n",
            "Requirement already satisfied: numpy>=1.11.0 in /usr/local/lib/python3.6/dist-packages (from scikit-learn>=0.20.3->sklearn-genetic) (1.18.5)\n",
            "Requirement already satisfied: scipy>=0.17.0 in /usr/local/lib/python3.6/dist-packages (from scikit-learn>=0.20.3->sklearn-genetic) (1.4.1)\n",
            "Installing collected packages: deap, sklearn-genetic\n",
            "Successfully installed deap-1.3.1 sklearn-genetic-0.3.0\n",
            "Collecting genetic\n",
            "  Downloading https://files.pythonhosted.org/packages/61/c5/79cf8356351418c779621a4927dacbfc1c5de04707ba51e842a288c3a71d/genetic-0.1.dev3.tar.gz\n",
            "Requirement already satisfied: numpy>=1.11.0 in /usr/local/lib/python3.6/dist-packages (from genetic) (1.18.5)\n",
            "Requirement already satisfied: scipy>=0.17.0 in /usr/local/lib/python3.6/dist-packages (from genetic) (1.4.1)\n",
            "Requirement already satisfied: multiprocess>=0.70.4 in /usr/local/lib/python3.6/dist-packages (from genetic) (0.70.11.1)\n",
            "Requirement already satisfied: dill>=0.3.3 in /usr/local/lib/python3.6/dist-packages (from multiprocess>=0.70.4->genetic) (0.3.3)\n",
            "Building wheels for collected packages: genetic\n",
            "  Building wheel for genetic (setup.py) ... \u001b[?25l\u001b[?25hdone\n",
            "  Created wheel for genetic: filename=genetic-0.1.dev3-cp36-none-any.whl size=8680 sha256=d7d0a3c7ca0d8b568149c6ff20c800fba1fcbbdff9fa561f425655ed9c6986a0\n",
            "  Stored in directory: /root/.cache/pip/wheels/0b/d9/57/8a082b569653c5e9c81ec54c5f3daef3a595a7ddab677bf391\n",
            "Successfully built genetic\n",
            "Installing collected packages: genetic\n",
            "Successfully installed genetic-0.1.dev3\n",
            "Collecting geneticalgorithm\n",
            "  Downloading https://files.pythonhosted.org/packages/d3/ab/e62b94f9baa4b27bb45b1cc9ae315ecaee53ca96c16da5c4ad18e00dd45b/geneticalgorithm-1.0.1-py3-none-any.whl\n",
            "Collecting func-timeout\n",
            "\u001b[?25l  Downloading https://files.pythonhosted.org/packages/b3/0d/bf0567477f7281d9a3926c582bfef21bff7498fc0ffd3e9de21811896a0b/func_timeout-4.3.5.tar.gz (44kB)\n",
            "\u001b[K     |████████████████████████████████| 51kB 2.6MB/s \n",
            "\u001b[?25hRequirement already satisfied: numpy in /usr/local/lib/python3.6/dist-packages (from geneticalgorithm) (1.18.5)\n",
            "Building wheels for collected packages: func-timeout\n",
            "  Building wheel for func-timeout (setup.py) ... \u001b[?25l\u001b[?25hdone\n",
            "  Created wheel for func-timeout: filename=func_timeout-4.3.5-cp36-none-any.whl size=15078 sha256=497ccc625484842c4dda1027df2e48a28148f61a76838bee7574b220a39590a3\n",
            "  Stored in directory: /root/.cache/pip/wheels/46/7c/4f/24f1d2d5bbff92219debe7ea19af84f76ddeb90dd4ec544f26\n",
            "Successfully built func-timeout\n",
            "Installing collected packages: func-timeout, geneticalgorithm\n",
            "Successfully installed func-timeout-4.3.5 geneticalgorithm-1.0.1\n"
          ],
          "name": "stdout"
        }
      ]
    },
    {
      "cell_type": "code",
      "metadata": {
        "id": "hmlm-09Exlf6",
        "colab": {
          "base_uri": "https://localhost:8080/",
          "height": 241
        },
        "outputId": "e59d83c6-0bab-4e54-c499-89ce7db02756"
      },
      "source": [
        "# Read the dataset\n",
        "data = pd.read_csv(\"data.csv\")\n",
        "data.head()"
      ],
      "execution_count": 3,
      "outputs": [
        {
          "output_type": "execute_result",
          "data": {
            "text/html": [
              "<div>\n",
              "<style scoped>\n",
              "    .dataframe tbody tr th:only-of-type {\n",
              "        vertical-align: middle;\n",
              "    }\n",
              "\n",
              "    .dataframe tbody tr th {\n",
              "        vertical-align: top;\n",
              "    }\n",
              "\n",
              "    .dataframe thead th {\n",
              "        text-align: right;\n",
              "    }\n",
              "</style>\n",
              "<table border=\"1\" class=\"dataframe\">\n",
              "  <thead>\n",
              "    <tr style=\"text-align: right;\">\n",
              "      <th></th>\n",
              "      <th>id</th>\n",
              "      <th>diagnosis</th>\n",
              "      <th>radius_mean</th>\n",
              "      <th>texture_mean</th>\n",
              "      <th>perimeter_mean</th>\n",
              "      <th>area_mean</th>\n",
              "      <th>smoothness_mean</th>\n",
              "      <th>compactness_mean</th>\n",
              "      <th>concavity_mean</th>\n",
              "      <th>concave points_mean</th>\n",
              "      <th>symmetry_mean</th>\n",
              "      <th>fractal_dimension_mean</th>\n",
              "      <th>radius_se</th>\n",
              "      <th>texture_se</th>\n",
              "      <th>perimeter_se</th>\n",
              "      <th>area_se</th>\n",
              "      <th>smoothness_se</th>\n",
              "      <th>compactness_se</th>\n",
              "      <th>concavity_se</th>\n",
              "      <th>concave points_se</th>\n",
              "      <th>symmetry_se</th>\n",
              "      <th>fractal_dimension_se</th>\n",
              "      <th>radius_worst</th>\n",
              "      <th>texture_worst</th>\n",
              "      <th>perimeter_worst</th>\n",
              "      <th>area_worst</th>\n",
              "      <th>smoothness_worst</th>\n",
              "      <th>compactness_worst</th>\n",
              "      <th>concavity_worst</th>\n",
              "      <th>concave points_worst</th>\n",
              "      <th>symmetry_worst</th>\n",
              "      <th>fractal_dimension_worst</th>\n",
              "      <th>Unnamed: 32</th>\n",
              "    </tr>\n",
              "  </thead>\n",
              "  <tbody>\n",
              "    <tr>\n",
              "      <th>0</th>\n",
              "      <td>842302</td>\n",
              "      <td>M</td>\n",
              "      <td>17.99</td>\n",
              "      <td>10.38</td>\n",
              "      <td>122.80</td>\n",
              "      <td>1001.0</td>\n",
              "      <td>0.11840</td>\n",
              "      <td>0.27760</td>\n",
              "      <td>0.3001</td>\n",
              "      <td>0.14710</td>\n",
              "      <td>0.2419</td>\n",
              "      <td>0.07871</td>\n",
              "      <td>1.0950</td>\n",
              "      <td>0.9053</td>\n",
              "      <td>8.589</td>\n",
              "      <td>153.40</td>\n",
              "      <td>0.006399</td>\n",
              "      <td>0.04904</td>\n",
              "      <td>0.05373</td>\n",
              "      <td>0.01587</td>\n",
              "      <td>0.03003</td>\n",
              "      <td>0.006193</td>\n",
              "      <td>25.38</td>\n",
              "      <td>17.33</td>\n",
              "      <td>184.60</td>\n",
              "      <td>2019.0</td>\n",
              "      <td>0.1622</td>\n",
              "      <td>0.6656</td>\n",
              "      <td>0.7119</td>\n",
              "      <td>0.2654</td>\n",
              "      <td>0.4601</td>\n",
              "      <td>0.11890</td>\n",
              "      <td>NaN</td>\n",
              "    </tr>\n",
              "    <tr>\n",
              "      <th>1</th>\n",
              "      <td>842517</td>\n",
              "      <td>M</td>\n",
              "      <td>20.57</td>\n",
              "      <td>17.77</td>\n",
              "      <td>132.90</td>\n",
              "      <td>1326.0</td>\n",
              "      <td>0.08474</td>\n",
              "      <td>0.07864</td>\n",
              "      <td>0.0869</td>\n",
              "      <td>0.07017</td>\n",
              "      <td>0.1812</td>\n",
              "      <td>0.05667</td>\n",
              "      <td>0.5435</td>\n",
              "      <td>0.7339</td>\n",
              "      <td>3.398</td>\n",
              "      <td>74.08</td>\n",
              "      <td>0.005225</td>\n",
              "      <td>0.01308</td>\n",
              "      <td>0.01860</td>\n",
              "      <td>0.01340</td>\n",
              "      <td>0.01389</td>\n",
              "      <td>0.003532</td>\n",
              "      <td>24.99</td>\n",
              "      <td>23.41</td>\n",
              "      <td>158.80</td>\n",
              "      <td>1956.0</td>\n",
              "      <td>0.1238</td>\n",
              "      <td>0.1866</td>\n",
              "      <td>0.2416</td>\n",
              "      <td>0.1860</td>\n",
              "      <td>0.2750</td>\n",
              "      <td>0.08902</td>\n",
              "      <td>NaN</td>\n",
              "    </tr>\n",
              "    <tr>\n",
              "      <th>2</th>\n",
              "      <td>84300903</td>\n",
              "      <td>M</td>\n",
              "      <td>19.69</td>\n",
              "      <td>21.25</td>\n",
              "      <td>130.00</td>\n",
              "      <td>1203.0</td>\n",
              "      <td>0.10960</td>\n",
              "      <td>0.15990</td>\n",
              "      <td>0.1974</td>\n",
              "      <td>0.12790</td>\n",
              "      <td>0.2069</td>\n",
              "      <td>0.05999</td>\n",
              "      <td>0.7456</td>\n",
              "      <td>0.7869</td>\n",
              "      <td>4.585</td>\n",
              "      <td>94.03</td>\n",
              "      <td>0.006150</td>\n",
              "      <td>0.04006</td>\n",
              "      <td>0.03832</td>\n",
              "      <td>0.02058</td>\n",
              "      <td>0.02250</td>\n",
              "      <td>0.004571</td>\n",
              "      <td>23.57</td>\n",
              "      <td>25.53</td>\n",
              "      <td>152.50</td>\n",
              "      <td>1709.0</td>\n",
              "      <td>0.1444</td>\n",
              "      <td>0.4245</td>\n",
              "      <td>0.4504</td>\n",
              "      <td>0.2430</td>\n",
              "      <td>0.3613</td>\n",
              "      <td>0.08758</td>\n",
              "      <td>NaN</td>\n",
              "    </tr>\n",
              "    <tr>\n",
              "      <th>3</th>\n",
              "      <td>84348301</td>\n",
              "      <td>M</td>\n",
              "      <td>11.42</td>\n",
              "      <td>20.38</td>\n",
              "      <td>77.58</td>\n",
              "      <td>386.1</td>\n",
              "      <td>0.14250</td>\n",
              "      <td>0.28390</td>\n",
              "      <td>0.2414</td>\n",
              "      <td>0.10520</td>\n",
              "      <td>0.2597</td>\n",
              "      <td>0.09744</td>\n",
              "      <td>0.4956</td>\n",
              "      <td>1.1560</td>\n",
              "      <td>3.445</td>\n",
              "      <td>27.23</td>\n",
              "      <td>0.009110</td>\n",
              "      <td>0.07458</td>\n",
              "      <td>0.05661</td>\n",
              "      <td>0.01867</td>\n",
              "      <td>0.05963</td>\n",
              "      <td>0.009208</td>\n",
              "      <td>14.91</td>\n",
              "      <td>26.50</td>\n",
              "      <td>98.87</td>\n",
              "      <td>567.7</td>\n",
              "      <td>0.2098</td>\n",
              "      <td>0.8663</td>\n",
              "      <td>0.6869</td>\n",
              "      <td>0.2575</td>\n",
              "      <td>0.6638</td>\n",
              "      <td>0.17300</td>\n",
              "      <td>NaN</td>\n",
              "    </tr>\n",
              "    <tr>\n",
              "      <th>4</th>\n",
              "      <td>84358402</td>\n",
              "      <td>M</td>\n",
              "      <td>20.29</td>\n",
              "      <td>14.34</td>\n",
              "      <td>135.10</td>\n",
              "      <td>1297.0</td>\n",
              "      <td>0.10030</td>\n",
              "      <td>0.13280</td>\n",
              "      <td>0.1980</td>\n",
              "      <td>0.10430</td>\n",
              "      <td>0.1809</td>\n",
              "      <td>0.05883</td>\n",
              "      <td>0.7572</td>\n",
              "      <td>0.7813</td>\n",
              "      <td>5.438</td>\n",
              "      <td>94.44</td>\n",
              "      <td>0.011490</td>\n",
              "      <td>0.02461</td>\n",
              "      <td>0.05688</td>\n",
              "      <td>0.01885</td>\n",
              "      <td>0.01756</td>\n",
              "      <td>0.005115</td>\n",
              "      <td>22.54</td>\n",
              "      <td>16.67</td>\n",
              "      <td>152.20</td>\n",
              "      <td>1575.0</td>\n",
              "      <td>0.1374</td>\n",
              "      <td>0.2050</td>\n",
              "      <td>0.4000</td>\n",
              "      <td>0.1625</td>\n",
              "      <td>0.2364</td>\n",
              "      <td>0.07678</td>\n",
              "      <td>NaN</td>\n",
              "    </tr>\n",
              "  </tbody>\n",
              "</table>\n",
              "</div>"
            ],
            "text/plain": [
              "         id diagnosis  ...  fractal_dimension_worst  Unnamed: 32\n",
              "0    842302         M  ...                  0.11890          NaN\n",
              "1    842517         M  ...                  0.08902          NaN\n",
              "2  84300903         M  ...                  0.08758          NaN\n",
              "3  84348301         M  ...                  0.17300          NaN\n",
              "4  84358402         M  ...                  0.07678          NaN\n",
              "\n",
              "[5 rows x 33 columns]"
            ]
          },
          "metadata": {
            "tags": []
          },
          "execution_count": 3
        }
      ]
    },
    {
      "cell_type": "code",
      "metadata": {
        "id": "8inXSoen06Cm"
      },
      "source": [
        "# Removing the id and blank column\n",
        "X = data.iloc[:, 2:-1]\n",
        "\n",
        "# Taking all rows except header\n",
        "Y = data.iloc[:, 1]"
      ],
      "execution_count": 4,
      "outputs": []
    },
    {
      "cell_type": "code",
      "metadata": {
        "id": "gCyE0eAT0-br"
      },
      "source": [
        "# The column diagnosis contains categorical data for the type of cancer. \n",
        "# The values can be either 'M' (Malignant) or 'B' (Benign)\n",
        "# We are assigning a value of 1 if M and 0 if B\n",
        "\n",
        "Y = [1 if i=='M' else 0 for i in Y]"
      ],
      "execution_count": 5,
      "outputs": []
    },
    {
      "cell_type": "code",
      "metadata": {
        "id": "o0rttPJuzmFD"
      },
      "source": [
        "# Taking a 70-30 split for the train and test data respectively\n",
        "\n",
        "X_train, X_test, y_train, y_test = train_test_split(X, Y, test_size=0.3, random_state=0)"
      ],
      "execution_count": 14,
      "outputs": []
    },
    {
      "cell_type": "code",
      "metadata": {
        "id": "XMPcTYF3zq3Y"
      },
      "source": [
        "# Conducting Min-max normalization on the train dataset\n",
        "\n",
        "# Find the minimum value in train dataset\n",
        "min_train = X_train.min()\n",
        "\n",
        "# Find biggest difference between min value and any point of dataset\n",
        "range_train = (X_train-min_train).max()\n",
        "\n",
        "# Normalise the data using min value and range\n",
        "X_train= (X_train - min_train)/range_train"
      ],
      "execution_count": 15,
      "outputs": []
    },
    {
      "cell_type": "code",
      "metadata": {
        "id": "2HWRHeoRzsZr"
      },
      "source": [
        "# Conducting Min-max normalization on the test dataset\n",
        "\n",
        "# Find the minimum value in test dataset\n",
        "min_test = X_test.min()\n",
        "\n",
        "# Find biggest difference between min value and any point of dataset\n",
        "range_test = (X_test-min_test).max()\n",
        "\n",
        "# Normalise the data using min value and range\n",
        "X_test= (X_test - min_test)/range_test"
      ],
      "execution_count": 16,
      "outputs": []
    },
    {
      "cell_type": "code",
      "metadata": {
        "colab": {
          "base_uri": "https://localhost:8080/"
        },
        "id": "v61BUtXq0FIC",
        "outputId": "ccad3fad-60f3-470a-ecae-a8ad2ab1331f"
      },
      "source": [
        "print(X_train.shape)\n",
        "print(X_test.shape)\n",
        "len(y_train)"
      ],
      "execution_count": 17,
      "outputs": [
        {
          "output_type": "stream",
          "text": [
            "(398, 30)\n",
            "(171, 30)\n"
          ],
          "name": "stdout"
        },
        {
          "output_type": "execute_result",
          "data": {
            "text/plain": [
              "398"
            ]
          },
          "metadata": {
            "tags": []
          },
          "execution_count": 17
        }
      ]
    },
    {
      "cell_type": "code",
      "metadata": {
        "colab": {
          "base_uri": "https://localhost:8080/"
        },
        "id": "F6GM164w0LLA",
        "outputId": "279f1f83-76dc-4664-e355-a146a28686dc"
      },
      "source": [
        "# Using a Support Vector Classifier\n",
        "\n",
        "classifier = SVC()\n",
        "classifier.fit(X_train, y_train)"
      ],
      "execution_count": 18,
      "outputs": [
        {
          "output_type": "execute_result",
          "data": {
            "text/plain": [
              "SVC(C=1.0, break_ties=False, cache_size=200, class_weight=None, coef0=0.0,\n",
              "    decision_function_shape='ovr', degree=3, gamma='scale', kernel='rbf',\n",
              "    max_iter=-1, probability=False, random_state=None, shrinking=True,\n",
              "    tol=0.001, verbose=False)"
            ]
          },
          "metadata": {
            "tags": []
          },
          "execution_count": 18
        }
      ]
    },
    {
      "cell_type": "code",
      "metadata": {
        "colab": {
          "base_uri": "https://localhost:8080/"
        },
        "id": "7fpHXKjg0OAK",
        "outputId": "6666a487-fb84-4084-e63d-285a87696a6b"
      },
      "source": [
        "# Predicting the values\n",
        "\n",
        "y_predict = classifier.predict(X_test)\n",
        "y_predict"
      ],
      "execution_count": 19,
      "outputs": [
        {
          "output_type": "execute_result",
          "data": {
            "text/plain": [
              "array([1, 0, 0, 0, 0, 0, 0, 0, 0, 0, 1, 0, 0, 1, 1, 1, 0, 1, 1, 1, 1, 1,\n",
              "       0, 0, 1, 0, 0, 1, 0, 1, 0, 1, 0, 1, 0, 1, 0, 1, 0, 1, 1, 0, 1, 0,\n",
              "       1, 1, 0, 0, 0, 1, 1, 1, 1, 0, 0, 0, 0, 0, 0, 1, 1, 1, 0, 0, 1, 0,\n",
              "       1, 1, 1, 0, 1, 1, 0, 1, 1, 0, 0, 0, 0, 0, 1, 1, 1, 0, 1, 0, 0, 0,\n",
              "       1, 1, 0, 1, 1, 1, 0, 0, 1, 0, 0, 0, 0, 0, 0, 1, 1, 0, 1, 0, 1, 1,\n",
              "       0, 1, 1, 0, 0, 0, 0, 0, 0, 0, 0, 0, 1, 0, 1, 1, 1, 0, 0, 0, 1, 0,\n",
              "       0, 1, 0, 0, 1, 1, 1, 0, 0, 0, 1, 0, 0, 1, 0, 1, 0, 0, 0, 0, 0, 1,\n",
              "       0, 1, 0, 1, 0, 1, 1, 0, 0, 1, 0, 1, 1, 1, 0, 0, 0])"
            ]
          },
          "metadata": {
            "tags": []
          },
          "execution_count": 19
        }
      ]
    },
    {
      "cell_type": "code",
      "metadata": {
        "id": "acsycK3q0QRU",
        "colab": {
          "base_uri": "https://localhost:8080/",
          "height": 282
        },
        "outputId": "75cfb0d9-365d-493a-bd25-c701c7dd5b4c"
      },
      "source": [
        "# Generating a confusion matrix of the predicted values\n",
        "cm = confusion_matrix(y_test, y_predict)\n",
        "\n",
        "# Plotting the confusion matrix\n",
        "sns.heatmap(cm, annot= True)"
      ],
      "execution_count": 20,
      "outputs": [
        {
          "output_type": "execute_result",
          "data": {
            "text/plain": [
              "<matplotlib.axes._subplots.AxesSubplot at 0x7f9f09fbdbe0>"
            ]
          },
          "metadata": {
            "tags": []
          },
          "execution_count": 20
        },
        {
          "output_type": "display_data",
          "data": {
            "image/png": "[encoded data removed]",
            "text/plain": [
              "<Figure size 432x288 with 2 Axes>"
            ]
          },
          "metadata": {
            "tags": [],
            "needs_background": "light"
          }
        }
      ]
    },
    {
      "cell_type": "code",
      "metadata": {
        "colab": {
          "base_uri": "https://localhost:8080/"
        },
        "id": "EBM7mbHB0Skn",
        "outputId": "17b12e7b-3002-4cf0-9f74-1522ec4b4561"
      },
      "source": [
        "# Accuracy of the original classifier\n",
        "\n",
        "print(classification_report(y_test, y_predict))"
      ],
      "execution_count": 21,
      "outputs": [
        {
          "output_type": "stream",
          "text": [
            "              precision    recall  f1-score   support\n",
            "\n",
            "           0       1.00      0.89      0.94       108\n",
            "           1       0.84      1.00      0.91        63\n",
            "\n",
            "    accuracy                           0.93       171\n",
            "   macro avg       0.92      0.94      0.93       171\n",
            "weighted avg       0.94      0.93      0.93       171\n",
            "\n"
          ],
          "name": "stdout"
        }
      ]
    },
    {
      "cell_type": "code",
      "metadata": {
        "id": "v0O0gKH60U4S"
      },
      "source": [
        "# Using a Genetic Algorithm to optimize the hyperparameters for the SVM Classifier\n",
        "\n",
        "selector = GeneticSelectionCV(SVC(),\n",
        "                                  cv=5,\n",
        "                                  verbose=1,\n",
        "                                  scoring=\"accuracy\",\n",
        "                                  max_features=10,\n",
        "                                  n_population=50,\n",
        "                                  crossover_proba=0.5,\n",
        "                                  mutation_proba=0.2,\n",
        "                                  n_generations=40,\n",
        "                                  crossover_independent_proba=0.5,\n",
        "                                  mutation_independent_proba=0.05,\n",
        "                                  tournament_size=3,\n",
        "                                  n_gen_no_change=10,\n",
        "                                  caching=True,\n",
        "                                  n_jobs=1)"
      ],
      "execution_count": 22,
      "outputs": []
    },
    {
      "cell_type": "code",
      "metadata": {
        "id": "5bQimMrM0VsL",
        "colab": {
          "base_uri": "https://localhost:8080/"
        },
        "outputId": "d7454239-abcc-40e8-fbde-e2ee2997cf9d"
      },
      "source": [
        "# Training the dataset using the Genetic Algorithm optimized SVM Classifier\n",
        "\n",
        "selector.fit(X_train, y_train)"
      ],
      "execution_count": 23,
      "outputs": [
        {
          "output_type": "stream",
          "text": [
            "Selecting features with genetic algorithm.\n",
            "gen\tnevals\tavg                    \tstd                    \tmin                    \tmax                      \n",
            "0  \t50    \t[0.90306076 4.64      ]\t[0.06295227 2.63636113]\t[0.71870253 1.        ]\t[ 0.96990506 10.        ]\n",
            "1  \t31    \t[-199.07442278    6.58      ]\t[1400.13222557    2.33315237]\t[-1.e+04  2.e+00]      \t[ 0.97243671 12.        ]\n",
            "2  \t33    \t[-199.06165063    7.78      ]\t[1400.13405003    1.90042101]\t[-1.e+04  4.e+00]      \t[ 0.97496835 12.        ]\n",
            "3  \t34    \t[-399.07284873    8.48      ]\t[1.95978105e+03 1.72325274e+00]\t[-1.e+04  4.e+00]      \t[ 0.97496835 11.        ]\n",
            "4  \t31    \t[-1799.20647722     9.34      ]\t[3.84224632e+03 1.55704849e+00]\t[-1.e+04  5.e+00]      \t[ 0.97496835 13.        ]\n",
            "5  \t29    \t[-1799.20541266     9.14      ]\t[3.84224682e+03 1.64936351e+00]\t[-1.e+04  6.e+00]      \t[ 0.98 13.  ]            \n",
            "6  \t28    \t[-1199.14575823     9.16      ]\t[3.24993081e+03 1.39082709e+00]\t[-1.e+04  6.e+00]      \t[ 0.98 13.  ]            \n",
            "7  \t28    \t[-1599.18354873     8.98      ]\t[3.66641688e+03 1.43513066e+00]\t[-1.e+04  6.e+00]      \t[ 0.98 13.  ]            \n",
            "8  \t30    \t[-599.08574937    8.9       ]  \t[2.37509940e+03 1.06301458e+00]\t[-1.e+04  6.e+00]      \t[ 0.9825 11.    ]        \n",
            "9  \t32    \t[-1799.20204367     9.18      ]\t[3.84224840e+03 1.51907867e+00]\t[-1.e+04  6.e+00]      \t[ 0.9825 13.    ]        \n",
            "10 \t30    \t[-399.06413608    9.08      ]  \t[1.95978283e+03 9.13016977e-01]\t[-1.e+04  7.e+00]      \t[ 0.9825 11.    ]        \n",
            "11 \t30    \t[-1199.14203481     9.38      ]\t[3.24993219e+03 1.14699608e+00]\t[-1.e+04  7.e+00]      \t[ 0.9825 12.    ]        \n",
            "12 \t36    \t[-2199.23963987     9.64      ]\t[4.14286685e+03 1.68237927e+00]\t[-1.e+04  5.e+00]      \t[ 0.9825 14.    ]        \n",
            "13 \t34    \t[-1599.18163987     9.44      ]\t[3.66641772e+03 1.53831076e+00]\t[-1.e+04  4.e+00]      \t[ 0.9825 13.    ]        \n",
            "14 \t38    \t[-2399.25968987     9.86      ]\t[4.27124732e+03 1.51009933e+00]\t[-1.e+04  6.e+00]      \t[ 0.9825 14.    ]        \n",
            "15 \t30    \t[-1599.18034304     9.7       ]\t[3.66641828e+03 1.17046999e+00]\t[-1.e+04  7.e+00]      \t[ 0.9825 13.    ]        \n",
            "16 \t31    \t[-1999.21778544     9.84      ]\t[4.00039111e+03 9.45727233e-01]\t[-1.e+04  7.e+00]      \t[ 0.9825 12.    ]        \n",
            "17 \t30    \t[-999.11852658    9.92      ]  \t[3.00029382e+03 6.88186021e-01]\t[-1.e+04  9.e+00]      \t[ 0.9825 13.    ]        \n",
            "18 \t31    \t[-1799.19571266    10.02      ]\t[3.84225137e+03 7.06823882e-01]\t[-1.e+04  9.e+00]      \t[ 0.9825 12.    ]        \n",
            "19 \t31    \t[-999.11726139    9.72      ]  \t[3.00029425e+03 6.64529909e-01]\t[-1.e+04  8.e+00]      \t[ 0.9825 11.    ]        \n",
            "20 \t30    \t[-199.0384057    9.36     ]    \t[1.40013737e+03 6.24819974e-01]\t[-1.e+04  8.e+00]      \t[ 0.9825 11.    ]        \n",
            "21 \t24    \t[-199.0378038    9.38     ]    \t[1.40013746e+03 6.28967408e-01]\t[-1.e+04  8.e+00]      \t[ 0.9825 12.    ]        \n",
            "22 \t37    \t[-799.09785696    9.32      ]  \t[2.71319802e+03 9.26066952e-01]\t[-1.e+04  8.e+00]      \t[ 0.9825 14.    ]        \n",
            "23 \t18    \t[-599.07770696    9.1       ]  \t[2.37510143e+03 8.30662386e-01]\t[-1.e+04  6.e+00]      \t[ 0.9825 11.    ]        \n",
            "24 \t35    \t[0.98129494 9.1       ]        \t[0.00261941 0.45825757]        \t[0.97243671 8.        ]\t[ 0.9825 10.    ]        \n",
            "25 \t23    \t[-399.05755633    9.18      ]  \t[1.95978417e+03 5.17300686e-01]\t[-1.e+04  8.e+00]      \t[ 0.9825 11.    ]        \n",
            "26 \t34    \t[-199.03790506    9.14      ]  \t[1.40013744e+03 4.00499688e-01]\t[-1.e+04  9.e+00]      \t[ 0.9825 11.    ]        \n",
            "27 \t32    \t[-599.07805823    9.24      ]  \t[2.37510134e+03 8.13879598e-01]\t[-1.e+04  8.e+00]      \t[ 0.9825 13.    ]        \n"
          ],
          "name": "stdout"
        },
        {
          "output_type": "execute_result",
          "data": {
            "text/plain": [
              "GeneticSelectionCV(caching=True, crossover_independent_proba=0.5,\n",
              "                   crossover_proba=0.5, cv=5,\n",
              "                   estimator=SVC(C=1.0, break_ties=False, cache_size=200,\n",
              "                                 class_weight=None, coef0=0.0,\n",
              "                                 decision_function_shape='ovr', degree=3,\n",
              "                                 gamma='scale', kernel='rbf', max_iter=-1,\n",
              "                                 probability=False, random_state=None,\n",
              "                                 shrinking=True, tol=0.001, verbose=False),\n",
              "                   fit_params=None, max_features=10,\n",
              "                   mutation_independent_proba=0.05, mutation_proba=0.2,\n",
              "                   n_gen_no_change=10, n_generations=40, n_jobs=1,\n",
              "                   n_population=50, scoring='accuracy', tournament_size=3,\n",
              "                   verbose=1)"
            ]
          },
          "metadata": {
            "tags": []
          },
          "execution_count": 23
        }
      ]
    },
    {
      "cell_type": "code",
      "metadata": {
        "id": "Oibh5fCS0b9Z"
      },
      "source": [
        "# Predicting the values using the trained classifier\n",
        "\n",
        "optimized_preds = selector.predict(X_test)"
      ],
      "execution_count": 24,
      "outputs": []
    },
    {
      "cell_type": "code",
      "metadata": {
        "colab": {
          "base_uri": "https://localhost:8080/",
          "height": 286
        },
        "id": "ql3VuZCa0eUz",
        "outputId": "f6e67364-4ddc-45b1-9f81-6a1f3a1203af"
      },
      "source": [
        "# Generating a confusion matrix of the predicted values from the optimized classifier\n",
        "cm = confusion_matrix(y_test, optimized_preds)\n",
        "\n",
        "# Plotting the confusion matrix\n",
        "sns.heatmap(cm, annot= True)"
      ],
      "execution_count": 25,
      "outputs": [
        {
          "output_type": "execute_result",
          "data": {
            "text/plain": [
              "<matplotlib.axes._subplots.AxesSubplot at 0x7f9f09a176d8>"
            ]
          },
          "metadata": {
            "tags": []
          },
          "execution_count": 25
        },
        {
          "output_type": "display_data",
          "data": {
            "image/png": "[encoded data removed]",
            "text/plain": [
              "<Figure size 432x288 with 2 Axes>"
            ]
          },
          "metadata": {
            "tags": [],
            "needs_background": "light"
          }
        }
      ]
    },
    {
      "cell_type": "code",
      "metadata": {
        "colab": {
          "base_uri": "https://localhost:8080/"
        },
        "id": "HJodgasX-yqT",
        "outputId": "a9c7867f-78ae-480d-e750-b9cd73676dbf"
      },
      "source": [
        "print(classification_report(y_test, optimized_preds))"
      ],
      "execution_count": 26,
      "outputs": [
        {
          "output_type": "stream",
          "text": [
            "              precision    recall  f1-score   support\n",
            "\n",
            "           0       1.00      0.93      0.96       108\n",
            "           1       0.89      1.00      0.94        63\n",
            "\n",
            "    accuracy                           0.95       171\n",
            "   macro avg       0.94      0.96      0.95       171\n",
            "weighted avg       0.96      0.95      0.95       171\n",
            "\n"
          ],
          "name": "stdout"
        }
      ]
    }
  ]
}