{
  "nbformat": 4,
  "nbformat_minor": 0,
  "metadata": {
    "colab": {
      "name": "Predict.ipynb",
      "provenance": [],
      "collapsed_sections": [],
      "include_colab_link": true
    },
    "kernelspec": {
      "name": "python3",
      "display_name": "Python 3"
    }
  },
  "cells": [
    {
      "cell_type": "markdown",
      "metadata": {
        "id": "view-in-github",
        "colab_type": "text"
      },
      "source": [
        "<a href=\"https://colab.research.google.com/github/srujandeshpande/breast-cancer-prediction/blob/main/Predict.ipynb\" target=\"_parent\"><img src=\"https://colab.research.google.com/assets/colab-badge.svg\" alt=\"Open In Colab\"/></a>"
      ]
    },
    {
      "cell_type": "markdown",
      "metadata": {
        "id": "cP0byhyMv9ha"
      },
      "source": [
        "# Data Analytics Project  \n",
        "Prediction and Optimization\n",
        "\n",
        "Team: **DataDemystifiers**  \n",
        "Team Members:\n",
        "<table>\n",
        "<tr><th>Name</th><th>SRN</th></tr>\n",
        "<tr><td>Vaibhav Gupta</td><td>PES2201800093</td></tr>\n",
        "<tr><td>Srujan Vasudevrao Deshpande</td><td>PES2201800105</td></tr>\n",
        "<tr><td>Aditya M Shetty</td><td>PES2201800169</td></tr>\n",
        "<tr><td>Safa Hurayn</td><td>PES2201800392</td></tr>\n",
        "</table>\n"
      ]
    },
    {
      "cell_type": "code",
      "metadata": {
        "id": "QC3srGm8quhb",
        "colab": {
          "base_uri": "https://localhost:8080/"
        },
        "outputId": "8a615880-b79a-43f1-e70e-0db845788f0b"
      },
      "source": [
        "import numpy as np\n",
        "import pandas as pd\n",
        "import seaborn as sns\n",
        "from sklearn.model_selection import train_test_split\n",
        "from sklearn.svm import SVC\n",
        "from sklearn.metrics import classification_report, confusion_matrix\n",
        "from sklearn.model_selection import GridSearchCV\n",
        "from sklearn.model_selection import StratifiedKFold\n",
        "!pip install sklearn-genetic\n",
        "from genetic_selection import GeneticSelectionCV\n",
        "!pip install genetic \n",
        "!pip install geneticalgorithm\n",
        "from geneticalgorithm import geneticalgorithm as ga\n"
      ],
      "execution_count": null,
      "outputs": [
        {
          "output_type": "stream",
          "text": [
            "Requirement already satisfied: sklearn-genetic in /usr/local/lib/python3.6/dist-packages (0.3.0)\n",
            "Requirement already satisfied: scikit-learn>=0.20.3 in /usr/local/lib/python3.6/dist-packages (from sklearn-genetic) (0.22.2.post1)\n",
            "Requirement already satisfied: deap>=1.0.2 in /usr/local/lib/python3.6/dist-packages (from sklearn-genetic) (1.3.1)\n",
            "Requirement already satisfied: joblib>=0.11 in /usr/local/lib/python3.6/dist-packages (from scikit-learn>=0.20.3->sklearn-genetic) (0.17.0)\n",
            "Requirement already satisfied: scipy>=0.17.0 in /usr/local/lib/python3.6/dist-packages (from scikit-learn>=0.20.3->sklearn-genetic) (1.4.1)\n",
            "Requirement already satisfied: numpy>=1.11.0 in /usr/local/lib/python3.6/dist-packages (from scikit-learn>=0.20.3->sklearn-genetic) (1.18.5)\n",
            "Requirement already satisfied: genetic in /usr/local/lib/python3.6/dist-packages (0.1.dev3)\n",
            "Requirement already satisfied: scipy>=0.17.0 in /usr/local/lib/python3.6/dist-packages (from genetic) (1.4.1)\n",
            "Requirement already satisfied: multiprocess>=0.70.4 in /usr/local/lib/python3.6/dist-packages (from genetic) (0.70.11.1)\n",
            "Requirement already satisfied: numpy>=1.11.0 in /usr/local/lib/python3.6/dist-packages (from genetic) (1.18.5)\n",
            "Requirement already satisfied: dill>=0.3.3 in /usr/local/lib/python3.6/dist-packages (from multiprocess>=0.70.4->genetic) (0.3.3)\n",
            "Requirement already satisfied: geneticalgorithm in /usr/local/lib/python3.6/dist-packages (1.0.1)\n",
            "Requirement already satisfied: numpy in /usr/local/lib/python3.6/dist-packages (from geneticalgorithm) (1.18.5)\n",
            "Requirement already satisfied: func-timeout in /usr/local/lib/python3.6/dist-packages (from geneticalgorithm) (4.3.5)\n"
          ],
          "name": "stdout"
        }
      ]
    },
    {
      "cell_type": "code",
      "metadata": {
        "id": "hmlm-09Exlf6",
        "colab": {
          "base_uri": "https://localhost:8080/",
          "height": 233
        },
        "outputId": "c177f453-98dc-4dab-aae8-3137b44d9d3c"
      },
      "source": [
        "# Read the dataset\n",
        "data = pd.read_csv(\"data.csv\")\n",
        "data.head()"
      ],
      "execution_count": null,
      "outputs": [
        {
          "output_type": "execute_result",
          "data": {
            "text/html": [
              "<div>\n",
              "<style scoped>\n",
              "    .dataframe tbody tr th:only-of-type {\n",
              "        vertical-align: middle;\n",
              "    }\n",
              "\n",
              "    .dataframe tbody tr th {\n",
              "        vertical-align: top;\n",
              "    }\n",
              "\n",
              "    .dataframe thead th {\n",
              "        text-align: right;\n",
              "    }\n",
              "</style>\n",
              "<table border=\"1\" class=\"dataframe\">\n",
              "  <thead>\n",
              "    <tr style=\"text-align: right;\">\n",
              "      <th></th>\n",
              "      <th>id</th>\n",
              "      <th>diagnosis</th>\n",
              "      <th>radius_mean</th>\n",
              "      <th>texture_mean</th>\n",
              "      <th>perimeter_mean</th>\n",
              "      <th>area_mean</th>\n",
              "      <th>smoothness_mean</th>\n",
              "      <th>compactness_mean</th>\n",
              "      <th>concavity_mean</th>\n",
              "      <th>concave points_mean</th>\n",
              "      <th>symmetry_mean</th>\n",
              "      <th>fractal_dimension_mean</th>\n",
              "      <th>radius_se</th>\n",
              "      <th>texture_se</th>\n",
              "      <th>perimeter_se</th>\n",
              "      <th>area_se</th>\n",
              "      <th>smoothness_se</th>\n",
              "      <th>compactness_se</th>\n",
              "      <th>concavity_se</th>\n",
              "      <th>concave points_se</th>\n",
              "      <th>symmetry_se</th>\n",
              "      <th>fractal_dimension_se</th>\n",
              "      <th>radius_worst</th>\n",
              "      <th>texture_worst</th>\n",
              "      <th>perimeter_worst</th>\n",
              "      <th>area_worst</th>\n",
              "      <th>smoothness_worst</th>\n",
              "      <th>compactness_worst</th>\n",
              "      <th>concavity_worst</th>\n",
              "      <th>concave points_worst</th>\n",
              "      <th>symmetry_worst</th>\n",
              "      <th>fractal_dimension_worst</th>\n",
              "      <th>Unnamed: 32</th>\n",
              "    </tr>\n",
              "  </thead>\n",
              "  <tbody>\n",
              "    <tr>\n",
              "      <th>0</th>\n",
              "      <td>842302</td>\n",
              "      <td>M</td>\n",
              "      <td>17.99</td>\n",
              "      <td>10.38</td>\n",
              "      <td>122.80</td>\n",
              "      <td>1001.0</td>\n",
              "      <td>0.11840</td>\n",
              "      <td>0.27760</td>\n",
              "      <td>0.3001</td>\n",
              "      <td>0.14710</td>\n",
              "      <td>0.2419</td>\n",
              "      <td>0.07871</td>\n",
              "      <td>1.0950</td>\n",
              "      <td>0.9053</td>\n",
              "      <td>8.589</td>\n",
              "      <td>153.40</td>\n",
              "      <td>0.006399</td>\n",
              "      <td>0.04904</td>\n",
              "      <td>0.05373</td>\n",
              "      <td>0.01587</td>\n",
              "      <td>0.03003</td>\n",
              "      <td>0.006193</td>\n",
              "      <td>25.38</td>\n",
              "      <td>17.33</td>\n",
              "      <td>184.60</td>\n",
              "      <td>2019.0</td>\n",
              "      <td>0.1622</td>\n",
              "      <td>0.6656</td>\n",
              "      <td>0.7119</td>\n",
              "      <td>0.2654</td>\n",
              "      <td>0.4601</td>\n",
              "      <td>0.11890</td>\n",
              "      <td>NaN</td>\n",
              "    </tr>\n",
              "    <tr>\n",
              "      <th>1</th>\n",
              "      <td>842517</td>\n",
              "      <td>M</td>\n",
              "      <td>20.57</td>\n",
              "      <td>17.77</td>\n",
              "      <td>132.90</td>\n",
              "      <td>1326.0</td>\n",
              "      <td>0.08474</td>\n",
              "      <td>0.07864</td>\n",
              "      <td>0.0869</td>\n",
              "      <td>0.07017</td>\n",
              "      <td>0.1812</td>\n",
              "      <td>0.05667</td>\n",
              "      <td>0.5435</td>\n",
              "      <td>0.7339</td>\n",
              "      <td>3.398</td>\n",
              "      <td>74.08</td>\n",
              "      <td>0.005225</td>\n",
              "      <td>0.01308</td>\n",
              "      <td>0.01860</td>\n",
              "      <td>0.01340</td>\n",
              "      <td>0.01389</td>\n",
              "      <td>0.003532</td>\n",
              "      <td>24.99</td>\n",
              "      <td>23.41</td>\n",
              "      <td>158.80</td>\n",
              "      <td>1956.0</td>\n",
              "      <td>0.1238</td>\n",
              "      <td>0.1866</td>\n",
              "      <td>0.2416</td>\n",
              "      <td>0.1860</td>\n",
              "      <td>0.2750</td>\n",
              "      <td>0.08902</td>\n",
              "      <td>NaN</td>\n",
              "    </tr>\n",
              "    <tr>\n",
              "      <th>2</th>\n",
              "      <td>84300903</td>\n",
              "      <td>M</td>\n",
              "      <td>19.69</td>\n",
              "      <td>21.25</td>\n",
              "      <td>130.00</td>\n",
              "      <td>1203.0</td>\n",
              "      <td>0.10960</td>\n",
              "      <td>0.15990</td>\n",
              "      <td>0.1974</td>\n",
              "      <td>0.12790</td>\n",
              "      <td>0.2069</td>\n",
              "      <td>0.05999</td>\n",
              "      <td>0.7456</td>\n",
              "      <td>0.7869</td>\n",
              "      <td>4.585</td>\n",
              "      <td>94.03</td>\n",
              "      <td>0.006150</td>\n",
              "      <td>0.04006</td>\n",
              "      <td>0.03832</td>\n",
              "      <td>0.02058</td>\n",
              "      <td>0.02250</td>\n",
              "      <td>0.004571</td>\n",
              "      <td>23.57</td>\n",
              "      <td>25.53</td>\n",
              "      <td>152.50</td>\n",
              "      <td>1709.0</td>\n",
              "      <td>0.1444</td>\n",
              "      <td>0.4245</td>\n",
              "      <td>0.4504</td>\n",
              "      <td>0.2430</td>\n",
              "      <td>0.3613</td>\n",
              "      <td>0.08758</td>\n",
              "      <td>NaN</td>\n",
              "    </tr>\n",
              "    <tr>\n",
              "      <th>3</th>\n",
              "      <td>84348301</td>\n",
              "      <td>M</td>\n",
              "      <td>11.42</td>\n",
              "      <td>20.38</td>\n",
              "      <td>77.58</td>\n",
              "      <td>386.1</td>\n",
              "      <td>0.14250</td>\n",
              "      <td>0.28390</td>\n",
              "      <td>0.2414</td>\n",
              "      <td>0.10520</td>\n",
              "      <td>0.2597</td>\n",
              "      <td>0.09744</td>\n",
              "      <td>0.4956</td>\n",
              "      <td>1.1560</td>\n",
              "      <td>3.445</td>\n",
              "      <td>27.23</td>\n",
              "      <td>0.009110</td>\n",
              "      <td>0.07458</td>\n",
              "      <td>0.05661</td>\n",
              "      <td>0.01867</td>\n",
              "      <td>0.05963</td>\n",
              "      <td>0.009208</td>\n",
              "      <td>14.91</td>\n",
              "      <td>26.50</td>\n",
              "      <td>98.87</td>\n",
              "      <td>567.7</td>\n",
              "      <td>0.2098</td>\n",
              "      <td>0.8663</td>\n",
              "      <td>0.6869</td>\n",
              "      <td>0.2575</td>\n",
              "      <td>0.6638</td>\n",
              "      <td>0.17300</td>\n",
              "      <td>NaN</td>\n",
              "    </tr>\n",
              "    <tr>\n",
              "      <th>4</th>\n",
              "      <td>84358402</td>\n",
              "      <td>M</td>\n",
              "      <td>20.29</td>\n",
              "      <td>14.34</td>\n",
              "      <td>135.10</td>\n",
              "      <td>1297.0</td>\n",
              "      <td>0.10030</td>\n",
              "      <td>0.13280</td>\n",
              "      <td>0.1980</td>\n",
              "      <td>0.10430</td>\n",
              "      <td>0.1809</td>\n",
              "      <td>0.05883</td>\n",
              "      <td>0.7572</td>\n",
              "      <td>0.7813</td>\n",
              "      <td>5.438</td>\n",
              "      <td>94.44</td>\n",
              "      <td>0.011490</td>\n",
              "      <td>0.02461</td>\n",
              "      <td>0.05688</td>\n",
              "      <td>0.01885</td>\n",
              "      <td>0.01756</td>\n",
              "      <td>0.005115</td>\n",
              "      <td>22.54</td>\n",
              "      <td>16.67</td>\n",
              "      <td>152.20</td>\n",
              "      <td>1575.0</td>\n",
              "      <td>0.1374</td>\n",
              "      <td>0.2050</td>\n",
              "      <td>0.4000</td>\n",
              "      <td>0.1625</td>\n",
              "      <td>0.2364</td>\n",
              "      <td>0.07678</td>\n",
              "      <td>NaN</td>\n",
              "    </tr>\n",
              "  </tbody>\n",
              "</table>\n",
              "</div>"
            ],
            "text/plain": [
              "         id diagnosis  ...  fractal_dimension_worst  Unnamed: 32\n",
              "0    842302         M  ...                  0.11890          NaN\n",
              "1    842517         M  ...                  0.08902          NaN\n",
              "2  84300903         M  ...                  0.08758          NaN\n",
              "3  84348301         M  ...                  0.17300          NaN\n",
              "4  84358402         M  ...                  0.07678          NaN\n",
              "\n",
              "[5 rows x 33 columns]"
            ]
          },
          "metadata": {
            "tags": []
          },
          "execution_count": 204
        }
      ]
    },
    {
      "cell_type": "code",
      "metadata": {
        "id": "8inXSoen06Cm"
      },
      "source": [
        "# Removing the id and blank column\n",
        "X = data.iloc[:, 2:-1]\n",
        "\n",
        "# Taking all rows except header\n",
        "Y = data.iloc[:, 1]"
      ],
      "execution_count": null,
      "outputs": []
    },
    {
      "cell_type": "code",
      "metadata": {
        "id": "gCyE0eAT0-br"
      },
      "source": [
        "# The column diagnosis contains categorical data for the type of cancer. \n",
        "# The values can be either 'M' (Malignant) or 'B' (Benign)\n",
        "# We are assigning a value of 1 if M and 0 if B\n",
        "\n",
        "Y = [1 if i=='M' else 0 for i in Y]"
      ],
      "execution_count": null,
      "outputs": []
    },
    {
      "cell_type": "code",
      "metadata": {
        "id": "o0rttPJuzmFD"
      },
      "source": [
        "# Taking a 80-20 split for the train and test data respectively\n",
        "\n",
        "X_train, X_test, y_train, y_test = train_test_split(X, Y, test_size=0.2, random_state=0)"
      ],
      "execution_count": null,
      "outputs": []
    },
    {
      "cell_type": "code",
      "metadata": {
        "id": "XMPcTYF3zq3Y"
      },
      "source": [
        "# Conducting Min-max normalization on the train dataset\n",
        "\n",
        "# Find the minimum value in train dataset\n",
        "min_train = X_train.min()\n",
        "\n",
        "# Find biggest difference between min value and any point of dataset\n",
        "range_train = (X_train-min_train).max()\n",
        "\n",
        "# Normalise the data using min value and range\n",
        "X_train= (X_train - min_train)/range_train"
      ],
      "execution_count": null,
      "outputs": []
    },
    {
      "cell_type": "code",
      "metadata": {
        "id": "2HWRHeoRzsZr"
      },
      "source": [
        "# Conducting Min-max normalization on the test dataset\n",
        "\n",
        "# Find the minimum value in test dataset\n",
        "min_test = X_test.min()\n",
        "\n",
        "# Find biggest difference between min value and any point of dataset\n",
        "range_test = (X_test-min_test).max()\n",
        "\n",
        "# Normalise the data using min value and range\n",
        "X_test= (X_test - min_test)/range_test"
      ],
      "execution_count": null,
      "outputs": []
    },
    {
      "cell_type": "code",
      "metadata": {
        "colab": {
          "base_uri": "https://localhost:8080/"
        },
        "id": "v61BUtXq0FIC",
        "outputId": "e70c2557-436b-4a9a-dbb5-beb2eddeaf6e"
      },
      "source": [
        "print(X_train.shape)\n",
        "print(X_test.shape)\n",
        "len(y_train)"
      ],
      "execution_count": null,
      "outputs": [
        {
          "output_type": "stream",
          "text": [
            "(455, 30)\n",
            "(114, 30)\n"
          ],
          "name": "stdout"
        },
        {
          "output_type": "execute_result",
          "data": {
            "text/plain": [
              "455"
            ]
          },
          "metadata": {
            "tags": []
          },
          "execution_count": 210
        }
      ]
    },
    {
      "cell_type": "code",
      "metadata": {
        "colab": {
          "base_uri": "https://localhost:8080/"
        },
        "id": "F6GM164w0LLA",
        "outputId": "4fc5ee65-82bc-437f-cd56-bfc8dea6e4fd"
      },
      "source": [
        "# Using a Support Vector Classifier\n",
        "#Using polynomial kernel\n",
        "classifier = SVC(kernel='poly')\n",
        "classifier.fit(X_train, y_train)"
      ],
      "execution_count": null,
      "outputs": [
        {
          "output_type": "execute_result",
          "data": {
            "text/plain": [
              "SVC(C=1.0, break_ties=False, cache_size=200, class_weight=None, coef0=0.0,\n",
              "    decision_function_shape='ovr', degree=3, gamma='scale', kernel='poly',\n",
              "    max_iter=-1, probability=False, random_state=None, shrinking=True,\n",
              "    tol=0.001, verbose=False)"
            ]
          },
          "metadata": {
            "tags": []
          },
          "execution_count": 211
        }
      ]
    },
    {
      "cell_type": "code",
      "metadata": {
        "colab": {
          "base_uri": "https://localhost:8080/"
        },
        "id": "AvczDU0RVltE",
        "outputId": "5ea9d8d4-02ff-4562-dd11-d3090278c8f3"
      },
      "source": [
        "#Using a Support Vector Classifier\n",
        "#Using RBF kernel\n",
        "classifier_1 = SVC(kernel='rbf')\n",
        "classifier_1.fit(X_train,y_train)"
      ],
      "execution_count": null,
      "outputs": [
        {
          "output_type": "execute_result",
          "data": {
            "text/plain": [
              "SVC(C=1.0, break_ties=False, cache_size=200, class_weight=None, coef0=0.0,\n",
              "    decision_function_shape='ovr', degree=3, gamma='scale', kernel='rbf',\n",
              "    max_iter=-1, probability=False, random_state=None, shrinking=True,\n",
              "    tol=0.001, verbose=False)"
            ]
          },
          "metadata": {
            "tags": []
          },
          "execution_count": 212
        }
      ]
    },
    {
      "cell_type": "code",
      "metadata": {
        "colab": {
          "base_uri": "https://localhost:8080/"
        },
        "id": "7fpHXKjg0OAK",
        "outputId": "f7d14a2f-3244-4d70-8638-3f3641751a0d"
      },
      "source": [
        "# Predicting the values(Polynomial)\n",
        "y_predict = classifier.predict(X_test)\n",
        "y_predict"
      ],
      "execution_count": null,
      "outputs": [
        {
          "output_type": "execute_result",
          "data": {
            "text/plain": [
              "array([1, 0, 0, 0, 0, 0, 0, 0, 0, 0, 1, 1, 0, 1, 1, 1, 0, 1, 1, 1, 1, 1,\n",
              "       0, 0, 1, 0, 0, 1, 0, 1, 0, 1, 1, 1, 0, 1, 0, 1, 0, 1, 1, 0, 1, 0,\n",
              "       1, 1, 0, 0, 0, 1, 1, 1, 1, 0, 0, 0, 0, 0, 0, 1, 1, 1, 0, 0, 1, 1,\n",
              "       1, 1, 1, 0, 1, 1, 0, 1, 1, 0, 0, 1, 0, 0, 1, 1, 1, 0, 1, 0, 0, 0,\n",
              "       1, 1, 0, 1, 1, 1, 0, 0, 1, 1, 0, 0, 0, 0, 0, 1, 1, 0, 1, 1, 1, 1,\n",
              "       1, 1, 1, 1])"
            ]
          },
          "metadata": {
            "tags": []
          },
          "execution_count": 213
        }
      ]
    },
    {
      "cell_type": "code",
      "metadata": {
        "colab": {
          "base_uri": "https://localhost:8080/"
        },
        "id": "j2EBghhNWNYh",
        "outputId": "ea57f66f-3683-4561-9230-120f1510924c"
      },
      "source": [
        "# Predicting the values(RBF)\n",
        "y_predict_1 = classifier_1.predict(X_test)\n",
        "y_predict_1"
      ],
      "execution_count": null,
      "outputs": [
        {
          "output_type": "execute_result",
          "data": {
            "text/plain": [
              "array([1, 0, 0, 0, 0, 0, 0, 0, 0, 0, 1, 1, 0, 1, 1, 1, 0, 1, 1, 1, 1, 1,\n",
              "       0, 0, 1, 0, 0, 1, 0, 1, 0, 1, 1, 1, 0, 1, 0, 1, 0, 1, 1, 0, 1, 0,\n",
              "       0, 1, 0, 0, 0, 1, 1, 1, 1, 0, 0, 0, 0, 0, 0, 1, 1, 1, 0, 0, 1, 0,\n",
              "       1, 1, 1, 0, 1, 1, 0, 1, 1, 0, 0, 0, 0, 0, 1, 1, 1, 0, 1, 0, 0, 0,\n",
              "       1, 1, 0, 1, 1, 1, 0, 0, 1, 0, 0, 0, 0, 0, 0, 1, 1, 0, 1, 0, 1, 1,\n",
              "       0, 1, 1, 0])"
            ]
          },
          "metadata": {
            "tags": []
          },
          "execution_count": 214
        }
      ]
    },
    {
      "cell_type": "code",
      "metadata": {
        "id": "acsycK3q0QRU",
        "colab": {
          "base_uri": "https://localhost:8080/",
          "height": 281
        },
        "outputId": "b1c271c8-f038-4837-fe26-34ee1bc88b22"
      },
      "source": [
        "# Generating a confusion matrix(Polynomial)\n",
        "cm = confusion_matrix(y_test, y_predict)\n",
        "\n",
        "# Plotting the confusion matrix\n",
        "sns.heatmap(cm, annot= True)"
      ],
      "execution_count": null,
      "outputs": [
        {
          "output_type": "execute_result",
          "data": {
            "text/plain": [
              "<matplotlib.axes._subplots.AxesSubplot at 0x7f0565a11e80>"
            ]
          },
          "metadata": {
            "tags": []
          },
          "execution_count": 215
        },
        {
          "output_type": "display_data",
          "data": {
            "image/png": "[encoded data removed]",
            "text/plain": [
              "<Figure size 432x288 with 2 Axes>"
            ]
          },
          "metadata": {
            "tags": [],
            "needs_background": "light"
          }
        }
      ]
    },
    {
      "cell_type": "code",
      "metadata": {
        "colab": {
          "base_uri": "https://localhost:8080/",
          "height": 281
        },
        "id": "4kNOkJCKWX6-",
        "outputId": "5974df3a-157c-4d0c-8c39-a1c693b4722f"
      },
      "source": [
        "# Generating a confusion matrix of the predicted values(RBF)\n",
        "cm_1 = confusion_matrix(y_test, y_predict_1)\n",
        "\n",
        "# Plotting the confusion matrix \n",
        "sns.heatmap(cm_1, annot= True)\n"
      ],
      "execution_count": null,
      "outputs": [
        {
          "output_type": "execute_result",
          "data": {
            "text/plain": [
              "<matplotlib.axes._subplots.AxesSubplot at 0x7f0566caca58>"
            ]
          },
          "metadata": {
            "tags": []
          },
          "execution_count": 216
        },
        {
          "output_type": "display_data",
          "data": {
            "image/png": "[encoded data removed]",
            "text/plain": [
              "<Figure size 432x288 with 2 Axes>"
            ]
          },
          "metadata": {
            "tags": [],
            "needs_background": "light"
          }
        }
      ]
    },
    {
      "cell_type": "code",
      "metadata": {
        "colab": {
          "base_uri": "https://localhost:8080/"
        },
        "id": "EBM7mbHB0Skn",
        "outputId": "a4d6aa09-39d9-49fd-e91d-763e252d7477"
      },
      "source": [
        "# Accuracy of the original classifier(Polynomial)\n",
        "print(classification_report(y_test, y_predict))"
      ],
      "execution_count": null,
      "outputs": [
        {
          "output_type": "stream",
          "text": [
            "              precision    recall  f1-score   support\n",
            "\n",
            "           0       1.00      0.78      0.87        67\n",
            "           1       0.76      1.00      0.86        47\n",
            "\n",
            "    accuracy                           0.87       114\n",
            "   macro avg       0.88      0.89      0.87       114\n",
            "weighted avg       0.90      0.87      0.87       114\n",
            "\n"
          ],
          "name": "stdout"
        }
      ]
    },
    {
      "cell_type": "code",
      "metadata": {
        "colab": {
          "base_uri": "https://localhost:8080/"
        },
        "id": "bSkgu9vDXP15",
        "outputId": "608142f5-267c-45d4-82c1-93bb88e98618"
      },
      "source": [
        "# Accuracy of the original classifier(RBF)\n",
        "print(classification_report(y_test, y_predict_1))"
      ],
      "execution_count": null,
      "outputs": [
        {
          "output_type": "stream",
          "text": [
            "              precision    recall  f1-score   support\n",
            "\n",
            "           0       1.00      0.88      0.94        67\n",
            "           1       0.85      1.00      0.92        47\n",
            "\n",
            "    accuracy                           0.93       114\n",
            "   macro avg       0.93      0.94      0.93       114\n",
            "weighted avg       0.94      0.93      0.93       114\n",
            "\n"
          ],
          "name": "stdout"
        }
      ]
    },
    {
      "cell_type": "code",
      "metadata": {
        "id": "v0O0gKH60U4S"
      },
      "source": [
        "# Using a Genetic Algorithm to optimize the hyperparameters for the SVM Classifier\n",
        "\n",
        "selector = GeneticSelectionCV(SVC(),\n",
        "                                  cv=5,\n",
        "                                  verbose=1,\n",
        "                                  scoring=\"accuracy\",\n",
        "                                  max_features=10,\n",
        "                                  n_population=50,\n",
        "                                  crossover_proba=0.5,\n",
        "                                  mutation_proba=0.2,\n",
        "                                  n_generations=40,\n",
        "                                  crossover_independent_proba=0.5,\n",
        "                                  mutation_independent_proba=0.05,\n",
        "                                  tournament_size=3,\n",
        "                                  n_gen_no_change=10,\n",
        "                                  caching=True,\n",
        "                                  n_jobs=1)"
      ],
      "execution_count": null,
      "outputs": []
    },
    {
      "cell_type": "code",
      "metadata": {
        "id": "5bQimMrM0VsL",
        "colab": {
          "base_uri": "https://localhost:8080/"
        },
        "outputId": "f05625ca-abfb-46e0-ece6-ce53ea394127"
      },
      "source": [
        "# Training the dataset using the Genetic Algorithm optimized SVM Classifier\n",
        "\n",
        "selector.fit(X_train, y_train)"
      ],
      "execution_count": null,
      "outputs": [
        {
          "output_type": "stream",
          "text": [
            "Selecting features with genetic algorithm.\n",
            "gen\tnevals\tavg                    \tstd                    \tmin                    \tmax                      \n",
            "0  \t50    \t[0.92140659 5.76      ]\t[0.0630345  2.82531414]\t[0.68131868 1.        ]\t[ 0.96923077 10.        ]\n",
            "1  \t31    \t[-999.14826374    7.3       ]\t[3.00028391e+03 2.74408455e+00]\t[-1.e+04  1.e+00]      \t[ 0.97142857 13.        ]\n",
            "2  \t28    \t[-799.11907692    8.18      ]\t[2.71319176e+03 2.22432012e+00]\t[-1.e+04  3.e+00]      \t[ 0.97142857 13.        ]\n",
            "3  \t30    \t[-999.13432967    8.94      ]\t[3.00028856e+03 1.77098842e+00]\t[-1.e+04  3.e+00]      \t[ 0.97142857 13.        ]\n",
            "4  \t29    \t[-1599.19002198     9.46      ]\t[3.66641406e+03 1.53896069e+00]\t[-1.e+04  6.e+00]      \t[ 0.97362637 13.        ]\n",
            "5  \t30    \t[-1799.20962637     9.78      ]\t[3.84224485e+03 1.57848028e+00]\t[-1.e+04  4.e+00]      \t[ 0.97362637 14.        ]\n",
            "6  \t31    \t[-1599.18835165     9.32      ]\t[3.66641479e+03 1.31818056e+00]\t[-1.e+04  6.e+00]      \t[ 0.97362637 11.        ]\n",
            "7  \t38    \t[-799.11173626    8.6       ]  \t[2.71319393e+03 1.46969385e+00]\t[-1.e+04  5.e+00]      \t[ 0.97582418 12.        ]\n",
            "8  \t32    \t[-599.09331868    8.46      ]  \t[2.37509749e+03 1.37419067e+00]\t[-1.e+04  5.e+00]      \t[ 0.97582418 12.        ]\n",
            "9  \t31    \t[-399.06901099    8.32      ]  \t[1.95978183e+03 1.12142766e+00]\t[-1.e+04  6.e+00]      \t[ 0.97802198 11.        ]\n",
            "10 \t27    \t[-399.0687033    8.14     ]    \t[1.95978189e+03 1.21671689e+00]\t[-1.e+04  5.e+00]      \t[ 0.97802198 11.        ]\n",
            "11 \t25    \t[-199.04637363    8.54      ]  \t[1.40013623e+03 8.99110672e-01]\t[-1.e+04  7.e+00]      \t[ 0.98021978 11.        ]\n",
            "12 \t34    \t[-199.04479121    8.66      ]  \t[1.40013646e+03 7.64460594e-01]\t[-1.e+04  7.e+00]      \t[ 0.98021978 11.        ]\n",
            "13 \t24    \t[-599.08312088    8.5       ]  \t[2.37510006e+03 1.02469508e+00]\t[-1.e+04  6.e+00]      \t[ 0.98021978 12.        ]\n",
            "14 \t33    \t[-599.08312088    8.52      ]  \t[2.37510006e+03 1.18726577e+00]\t[-1.e+04  7.e+00]      \t[ 0.98021978 12.        ]\n",
            "15 \t34    \t[-399.06250549    8.5       ]  \t[1.95978316e+03 1.08166538e+00]\t[-1.e+04  7.e+00]      \t[ 0.98021978 11.        ]\n",
            "16 \t17    \t[0.97789011 8.16      ]        \t[0.00242397 1.06508216]        \t[0.96703297 7.        ]\t[ 0.98021978 10.        ]\n",
            "17 \t26    \t[-399.06312088    8.46      ]  \t[1.95978303e+03 1.37419067e+00]\t[-1.e+04  7.e+00]      \t[ 0.98021978 11.        ]\n",
            "18 \t26    \t[-399.06131868    9.56      ]  \t[1.95978340e+03 1.11642286e+00]\t[-1.e+04  7.e+00]      \t[ 0.98021978 13.        ]\n",
            "19 \t27    \t[-1599.17749451    10.14      ]\t[3.66641953e+03 1.02000000e+00]\t[-1.e+04  7.e+00]      \t[ 0.98021978 14.        ]\n",
            "20 \t31    \t[-599.0789011   10.06     ]    \t[2.37510113e+03 3.69323706e-01]\t[-1.e+04  9.e+00]      \t[ 0.98021978 12.        ]\n",
            "21 \t34    \t[-1199.13872527    10.04      ]\t[3.24993341e+03 6.62117814e-01]\t[-1.e+04  8.e+00]      \t[ 0.98021978 12.        ]\n"
          ],
          "name": "stdout"
        },
        {
          "output_type": "execute_result",
          "data": {
            "text/plain": [
              "GeneticSelectionCV(caching=True, crossover_independent_proba=0.5,\n",
              "                   crossover_proba=0.5, cv=5,\n",
              "                   estimator=SVC(C=1.0, break_ties=False, cache_size=200,\n",
              "                                 class_weight=None, coef0=0.0,\n",
              "                                 decision_function_shape='ovr', degree=3,\n",
              "                                 gamma='scale', kernel='rbf', max_iter=-1,\n",
              "                                 probability=False, random_state=None,\n",
              "                                 shrinking=True, tol=0.001, verbose=False),\n",
              "                   fit_params=None, max_features=10,\n",
              "                   mutation_independent_proba=0.05, mutation_proba=0.2,\n",
              "                   n_gen_no_change=10, n_generations=40, n_jobs=1,\n",
              "                   n_population=50, scoring='accuracy', tournament_size=3,\n",
              "                   verbose=1)"
            ]
          },
          "metadata": {
            "tags": []
          },
          "execution_count": 220
        }
      ]
    },
    {
      "cell_type": "code",
      "metadata": {
        "id": "Oibh5fCS0b9Z"
      },
      "source": [
        "# Predicting the values using the trained classifier\n",
        "optimized_preds = selector.predict(X_test)"
      ],
      "execution_count": null,
      "outputs": []
    },
    {
      "cell_type": "code",
      "metadata": {
        "colab": {
          "base_uri": "https://localhost:8080/",
          "height": 283
        },
        "id": "ql3VuZCa0eUz",
        "outputId": "b82e6c06-d669-4523-b80c-50316a403b2a"
      },
      "source": [
        "# Generating a confusion matrix of the predicted values from the optimized classifier\n",
        "cm = confusion_matrix(y_test, optimized_preds)\n",
        "\n",
        "# Plotting the confusion matrix\n",
        "sns.heatmap(cm, annot= True)"
      ],
      "execution_count": null,
      "outputs": [
        {
          "output_type": "execute_result",
          "data": {
            "text/plain": [
              "<matplotlib.axes._subplots.AxesSubplot at 0x7f056566fc50>"
            ]
          },
          "metadata": {
            "tags": []
          },
          "execution_count": 222
        },
        {
          "output_type": "display_data",
          "data": {
            "image/png": "[encoded data removed]",
            "text/plain": [
              "<Figure size 432x288 with 2 Axes>"
            ]
          },
          "metadata": {
            "tags": [],
            "needs_background": "light"
          }
        }
      ]
    },
    {
      "cell_type": "code",
      "metadata": {
        "colab": {
          "base_uri": "https://localhost:8080/"
        },
        "id": "HJodgasX-yqT",
        "outputId": "6a29aea3-8d3f-4b9a-e2ff-15225cfa612c"
      },
      "source": [
        "print(classification_report(y_test, optimized_preds))"
      ],
      "execution_count": null,
      "outputs": [
        {
          "output_type": "stream",
          "text": [
            "              precision    recall  f1-score   support\n",
            "\n",
            "           0       1.00      0.91      0.95        67\n",
            "           1       0.89      1.00      0.94        47\n",
            "\n",
            "    accuracy                           0.95       114\n",
            "   macro avg       0.94      0.96      0.95       114\n",
            "weighted avg       0.95      0.95      0.95       114\n",
            "\n"
          ],
          "name": "stdout"
        }
      ]
    }
  ]
}